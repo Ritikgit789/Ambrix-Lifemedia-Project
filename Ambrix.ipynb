{
  "nbformat": 4,
  "nbformat_minor": 0,
  "metadata": {
    "colab": {
      "provenance": []
    },
    "kernelspec": {
      "name": "python3",
      "display_name": "Python 3"
    },
    "language_info": {
      "name": "python"
    }
  },
  "cells": [
    {
      "cell_type": "code",
      "execution_count": 1,
      "metadata": {
        "id": "jLac-So92Hx0"
      },
      "outputs": [],
      "source": [
        "import os\n",
        "import pandas as pd\n",
        "import numpy as np\n",
        "from sklearn.feature_extraction.text import TfidfVectorizer\n",
        "from sklearn.metrics.pairwise import cosine_similarity\n",
        "from sklearn.model_selection import train_test_split\n",
        "from collections import defaultdict"
      ]
    },
    {
      "cell_type": "markdown",
      "source": [
        "# Import datasets"
      ],
      "metadata": {
        "id": "gnSfTAJa5F31"
      }
    },
    {
      "cell_type": "code",
      "source": [
        "users = pd.read_csv(\"Users.csv\")\n",
        "posts = pd.read_csv(\"Posts.csv\")\n",
        "engagements = pd.read_csv(\"Engagements.csv\")\n",
        "\n",
        "print(users.head())\n",
        "print(posts.head())\n",
        "print(engagements.head())"
      ],
      "metadata": {
        "colab": {
          "base_uri": "https://localhost:8080/"
        },
        "id": "9u0QLhOD2VO3",
        "outputId": "c8dc1f88-c19e-460a-89ef-982ddf10a9ab"
      },
      "execution_count": 2,
      "outputs": [
        {
          "output_type": "stream",
          "name": "stdout",
          "text": [
            "  user_id  age gender          top_3_interests  past_engagement_score\n",
            "0      U1   24      F      sports, art, gaming                   0.61\n",
            "1      U2   32      F    travel, food, fashion                   0.93\n",
            "2      U3   28  Other  sports, travel, fashion                   0.40\n",
            "3      U4   25      M     fashion, music, tech                   0.53\n",
            "4      U5   24      M   fashion, food, fitness                   0.80\n",
            "  post_id creator_id content_type            tags\n",
            "0      P1        U44        video    sports, food\n",
            "1      P2        U26        video   music, travel\n",
            "2      P3        U32         text  sports, travel\n",
            "3      P4         U6        image   music, gaming\n",
            "4      P5        U32        image   food, fashion\n",
            "  user_id post_id  engagement\n",
            "0      U1     P52           1\n",
            "1      U1     P44           0\n",
            "2      U1      P1           1\n",
            "3      U1      P4           1\n",
            "4      U1     P65           0\n"
          ]
        }
      ]
    },
    {
      "cell_type": "code",
      "source": [
        "users.shape"
      ],
      "metadata": {
        "colab": {
          "base_uri": "https://localhost:8080/"
        },
        "id": "ZuXh2dyH20Rl",
        "outputId": "7915c1f7-1000-4fcf-f16a-380e6fe1b449"
      },
      "execution_count": 3,
      "outputs": [
        {
          "output_type": "execute_result",
          "data": {
            "text/plain": [
              "(50, 5)"
            ]
          },
          "metadata": {},
          "execution_count": 3
        }
      ]
    },
    {
      "cell_type": "markdown",
      "source": [
        "# Cleaning and Preprocessing"
      ],
      "metadata": {
        "id": "oXNqmXCY5JwA"
      }
    },
    {
      "cell_type": "code",
      "source": [
        "# Clean text fields, inspect missing values, and create unified text columns for modeling.\n",
        "def build_text_fields(users, posts):\n",
        "    posts = posts.copy()\n",
        "    posts['tags'] = posts['tags'].fillna('').astype(str)\n",
        "    posts['content_type'] = posts['content_type'].fillna('').astype(str)\n",
        "    posts['text'] = (posts['tags'] + ' ' + posts['content_type']).str.replace(',', ' ')\n",
        "\n",
        "    users = users.copy()\n",
        "    users['top_3_interests'] = users['top_3_interests'].fillna('').astype(str)\n",
        "    users['text'] = users['top_3_interests'].str.replace(',', ' ')\n",
        "\n",
        "    return users, posts\n",
        "\n",
        "\n",
        "\n",
        "users, posts = build_text_fields(users, posts)\n",
        "\n",
        "print(users[['user_id','text']].head())\n",
        "print(posts[['post_id','text']].head())\n"
      ],
      "metadata": {
        "colab": {
          "base_uri": "https://localhost:8080/"
        },
        "id": "0-rOEjEk23YZ",
        "outputId": "d48a3b96-e094-4ad9-e96b-c026a1746dfc"
      },
      "execution_count": 4,
      "outputs": [
        {
          "output_type": "stream",
          "name": "stdout",
          "text": [
            "  user_id                     text\n",
            "0      U1      sports  art  gaming\n",
            "1      U2    travel  food  fashion\n",
            "2      U3  sports  travel  fashion\n",
            "3      U4     fashion  music  tech\n",
            "4      U5   fashion  food  fitness\n",
            "  post_id                 text\n",
            "0      P1   sports  food video\n",
            "1      P2  music  travel video\n",
            "2      P3  sports  travel text\n",
            "3      P4  music  gaming image\n",
            "4      P5  food  fashion image\n"
          ]
        }
      ]
    },
    {
      "cell_type": "code",
      "source": [
        "print(users[['user_id','text']].head())\n",
        "print(posts[['post_id','text']].head())"
      ],
      "metadata": {
        "colab": {
          "base_uri": "https://localhost:8080/"
        },
        "id": "yWpE0uus3SpK",
        "outputId": "d3ea777b-2c44-4da2-eba0-5f7f14960e38"
      },
      "execution_count": 5,
      "outputs": [
        {
          "output_type": "stream",
          "name": "stdout",
          "text": [
            "  user_id                     text\n",
            "0      U1      sports  art  gaming\n",
            "1      U2    travel  food  fashion\n",
            "2      U3  sports  travel  fashion\n",
            "3      U4     fashion  music  tech\n",
            "4      U5   fashion  food  fitness\n",
            "  post_id                 text\n",
            "0      P1   sports  food video\n",
            "1      P2  music  travel video\n",
            "2      P3  sports  travel text\n",
            "3      P4  music  gaming image\n",
            "4      P5  food  fashion image\n"
          ]
        }
      ]
    },
    {
      "cell_type": "markdown",
      "source": [
        "# Build Embeddings and get similarity Scores"
      ],
      "metadata": {
        "id": "SIegphvz5NqY"
      }
    },
    {
      "cell_type": "code",
      "source": [
        "from sklearn.feature_extraction.text import TfidfVectorizer\n",
        "from sklearn.metrics.pairwise import cosine_similarity\n",
        "\n",
        "# Build TF-IDF embeddings\n",
        "def build_tfidf_embeddings(users, posts, max_features=5000):\n",
        "    corpus = list(posts['text'].astype(str)) + list(users['text'].astype(str))\n",
        "    vec = TfidfVectorizer(max_features=max_features, ngram_range=(1,2))\n",
        "    tfidf = vec.fit_transform(corpus)\n",
        "\n",
        "    posts_tfidf = tfidf[:len(posts), :]   # first part = posts\n",
        "    users_tfidf = tfidf[len(posts):, :]   # second part = users\n",
        "\n",
        "    return vec, posts_tfidf, users_tfidf\n",
        "\n",
        "vec, posts_tfidf, users_tfidf = build_tfidf_embeddings(users, posts)\n",
        "\n",
        "# Example: similarity between U1 and all posts\n",
        "user_idx = 0  # U1\n",
        "user_vec = users_tfidf[user_idx]\n",
        "content_scores = cosine_similarity(user_vec, posts_tfidf).flatten()\n",
        "\n",
        "print(\"Scores for U1:\", content_scores)\n"
      ],
      "metadata": {
        "colab": {
          "base_uri": "https://localhost:8080/"
        },
        "id": "JdO1k32u3Srw",
        "outputId": "0fd33c06-fffc-4102-844d-e7e8190fd37b"
      },
      "execution_count": 6,
      "outputs": [
        {
          "output_type": "stream",
          "name": "stdout",
          "text": [
            "Scores for U1: [0.08415727 0.         0.08205357 0.1070333  0.         0.12442529\n",
            " 0.         0.         0.         0.16795545 0.         0.\n",
            " 0.15718159 0.         0.         0.         0.09784576 0.\n",
            " 0.         0.         0.12040041 0.5132872  0.         0.1339772\n",
            " 0.15538247 0.         0.         0.10241839 0.07829219 0.07949901\n",
            " 0.         0.         0.15538247 0.09309931 0.         0.\n",
            " 0.         0.         0.09309931 0.08075762 0.         0.\n",
            " 0.10108838 0.         0.         0.09784576 0.13201982 0.08540065\n",
            " 0.10867938 0.12442529 0.         0.09393258 0.         0.\n",
            " 0.15654304 0.07962646 0.08381579 0.09784576 0.15336104 0.09393258\n",
            " 0.12336389 0.15336104 0.         0.         0.12442529 0.11890016\n",
            " 0.12442529 0.         0.         0.12505337 0.         0.08372652\n",
            " 0.         0.         0.15538247 0.         0.         0.53576966\n",
            " 0.         0.         0.11474597 0.11013459 0.11885273 0.\n",
            " 0.11116192 0.         0.15654304 0.         0.         0.\n",
            " 0.         0.         0.         0.         0.         0.\n",
            " 0.09309931 0.         0.1070333  0.15533227]\n"
          ]
        }
      ]
    },
    {
      "cell_type": "markdown",
      "source": [
        "# Recommendation function"
      ],
      "metadata": {
        "id": "2mFSpp5b5TWn"
      }
    },
    {
      "cell_type": "code",
      "source": [
        "def recommend_top_posts(user_idx, users_tfidf, posts_tfidf, posts, top_n=3):\n",
        "    user_vec = users_tfidf[user_idx]\n",
        "    scores = cosine_similarity(user_vec, posts_tfidf).flatten()\n",
        "    top_idx = np.argsort(scores)[::-1][:top_n]   # sort descending\n",
        "    rec_posts = posts.iloc[top_idx][['post_id','text']]\n",
        "    rec_scores = scores[top_idx]\n",
        "    return rec_posts, rec_scores\n",
        "\n",
        "# Example: Recommendations for U1\n",
        "rec_posts, rec_scores = recommend_top_posts(0, users_tfidf, posts_tfidf, posts)\n",
        "print(\"Recommended posts for U1:\\n\", rec_posts)\n",
        "print(\"Scores:\", rec_scores)"
      ],
      "metadata": {
        "colab": {
          "base_uri": "https://localhost:8080/"
        },
        "id": "BoL0RWIH3SuV",
        "outputId": "e0e69f80-f71a-4566-a315-eb0ce5a4694c"
      },
      "execution_count": 7,
      "outputs": [
        {
          "output_type": "stream",
          "name": "stdout",
          "text": [
            "Recommended posts for U1:\n",
            "    post_id               text\n",
            "77     P78  sports  art video\n",
            "21     P22  sports  art audio\n",
            "9      P10          art video\n",
            "Scores: [0.53576966 0.5132872  0.16795545]\n"
          ]
        }
      ]
    },
    {
      "cell_type": "markdown",
      "source": [
        "# Engagement Matrix"
      ],
      "metadata": {
        "id": "cK-hp2vS5btY"
      }
    },
    {
      "cell_type": "code",
      "source": [
        "def build_engagement_matrix(users, posts, engagements):\n",
        "    user_ids = users['user_id'].tolist()\n",
        "    post_ids = posts['post_id'].tolist()\n",
        "    user_index = {uid:i for i,uid in enumerate(user_ids)}\n",
        "    post_index = {pid:i for i,pid in enumerate(post_ids)}\n",
        "\n",
        "    M = np.zeros((len(post_ids), len(user_ids)))  # posts x users\n",
        "    for _, row in engagements.iterrows():\n",
        "        pid = row['post_id']\n",
        "        uid = row['user_id']\n",
        "        eng = row['engagement']\n",
        "        if pid in post_index and uid in user_index:\n",
        "            M[post_index[pid], user_index[uid]] = eng\n",
        "    return M, post_index, user_index\n",
        "\n",
        "M, post_index, user_index = build_engagement_matrix(users, posts, engagements)\n",
        "print(\"Engagement matrix shape:\", M.shape)"
      ],
      "metadata": {
        "colab": {
          "base_uri": "https://localhost:8080/"
        },
        "id": "NmVlp92z3Swg",
        "outputId": "0be0a94f-3d67-489d-c8f7-aa1265841164"
      },
      "execution_count": 8,
      "outputs": [
        {
          "output_type": "stream",
          "name": "stdout",
          "text": [
            "Engagement matrix shape: (100, 50)\n"
          ]
        }
      ]
    },
    {
      "cell_type": "code",
      "source": [
        "from sklearn.metrics.pairwise import cosine_similarity\n",
        "\n",
        "item_sim = cosine_similarity(M)  # posts x posts similarity\n",
        "print(\"Item-item similarity matrix shape:\", item_sim.shape)"
      ],
      "metadata": {
        "colab": {
          "base_uri": "https://localhost:8080/"
        },
        "id": "pxKCIImv3Sy8",
        "outputId": "8d4fc471-5172-44a7-cc51-44df22a036ae"
      },
      "execution_count": 9,
      "outputs": [
        {
          "output_type": "stream",
          "name": "stdout",
          "text": [
            "Item-item similarity matrix shape: (100, 100)\n"
          ]
        }
      ]
    },
    {
      "cell_type": "code",
      "source": [
        "def post_popularity(posts, engagements):\n",
        "    pop = engagements.groupby('post_id')['engagement'].sum().reindex(posts['post_id']).fillna(0)\n",
        "    # Normalize between 0-1\n",
        "    if pop.max() > 0:\n",
        "        pop_norm = (pop - pop.min()) / (pop.max() - pop.min())\n",
        "    else:\n",
        "        pop_norm = pop\n",
        "    return pop_norm\n",
        "\n",
        "pop_scores = post_popularity(posts, engagements)\n",
        "print(pop_scores.head())\n"
      ],
      "metadata": {
        "colab": {
          "base_uri": "https://localhost:8080/"
        },
        "id": "WltvZPnWH7bL",
        "outputId": "cdddb447-30b7-4945-883d-bcfe1bc99f9b"
      },
      "execution_count": 10,
      "outputs": [
        {
          "output_type": "stream",
          "name": "stdout",
          "text": [
            "post_id\n",
            "P1    1.000000\n",
            "P2    0.166667\n",
            "P3    0.333333\n",
            "P4    0.500000\n",
            "P5    0.750000\n",
            "Name: engagement, dtype: float64\n"
          ]
        }
      ]
    },
    {
      "cell_type": "markdown",
      "source": [
        "# Hybrid based Recommendation system"
      ],
      "metadata": {
        "id": "HlFK71EW5fPZ"
      }
    },
    {
      "cell_type": "code",
      "source": [
        "def recommend_hybrid(user_idx, users, posts, posts_tfidf, users_tfidf,\n",
        "                     item_sim, pop_scores, top_k=3,\n",
        "                     w_content=0.6, w_collab=0.3, w_pop=0.1):\n",
        "    user_vec = users_tfidf[user_idx]\n",
        "    content_scores = cosine_similarity(user_vec, posts_tfidf).flatten()\n",
        "\n",
        "    # Collaborative score: average similarity with posts user already engaged\n",
        "    user_id = users.iloc[user_idx]['user_id']\n",
        "    engaged_posts = engagements[(engagements['user_id']==user_id) & (engagements['engagement']>0)]['post_id'].tolist()\n",
        "    collab_scores = np.zeros(len(posts))\n",
        "    for pid in engaged_posts:\n",
        "        if pid in post_index:\n",
        "            collab_scores += item_sim[post_index[pid]]\n",
        "    if engaged_posts:\n",
        "        collab_scores /= len(engaged_posts)\n",
        "\n",
        "    # Final hybrid score\n",
        "    final_score = w_content*content_scores + w_collab*collab_scores + w_pop*pop_scores.values\n",
        "\n",
        "    # Top-k posts\n",
        "    top_idx = np.argsort(final_score)[::-1][:top_k]\n",
        "    rec_posts = posts.iloc[top_idx][['post_id','text']]\n",
        "    rec_scores = final_score[top_idx]\n",
        "    return rec_posts, rec_scores\n"
      ],
      "metadata": {
        "id": "X7nusYLqH97Q"
      },
      "execution_count": 11,
      "outputs": []
    },
    {
      "cell_type": "code",
      "source": [
        "rec_posts, rec_scores = recommend_hybrid(0, users, posts, posts_tfidf, users_tfidf, item_sim, pop_scores)\n",
        "print(\"Hybrid Top-3 Recommendations for U1:\")\n",
        "print(rec_posts)\n",
        "print(\"Scores:\", rec_scores)\n"
      ],
      "metadata": {
        "colab": {
          "base_uri": "https://localhost:8080/"
        },
        "id": "lSKIwXFuIBmf",
        "outputId": "7899930f-7181-4539-bffb-81f7f719d6f3"
      },
      "execution_count": 12,
      "outputs": [
        {
          "output_type": "stream",
          "name": "stdout",
          "text": [
            "Hybrid Top-3 Recommendations for U1:\n",
            "   post_id                text\n",
            "77     P78   sports  art video\n",
            "21     P22   sports  art audio\n",
            "0       P1  sports  food video\n",
            "Scores: [0.38818993 0.38601534 0.23754012]\n"
          ]
        }
      ]
    },
    {
      "cell_type": "code",
      "source": [
        "results = []\n",
        "for idx in range(len(users)):\n",
        "    rec_posts, rec_scores = recommend_hybrid(idx, users, posts, posts_tfidf, users_tfidf, item_sim, pop_scores)\n",
        "    results.append({\n",
        "        'user_id': users.iloc[idx]['user_id'],\n",
        "        'recommended_posts': list(rec_posts['post_id']),\n",
        "        'scores': list(rec_scores)\n",
        "    })\n",
        "\n",
        "final_df = pd.DataFrame(results)\n",
        "final_df.to_csv(\"top3_recommendations.csv\", index=False)\n",
        "print(final_df.head())\n"
      ],
      "metadata": {
        "colab": {
          "base_uri": "https://localhost:8080/"
        },
        "id": "37TOemxcIF4V",
        "outputId": "b0791042-3505-4dd8-80a4-cfb0f3c0b1e3"
      },
      "execution_count": 13,
      "outputs": [
        {
          "output_type": "stream",
          "name": "stdout",
          "text": [
            "  user_id recommended_posts                                             scores\n",
            "0      U1    [P78, P22, P1]  [0.38818992927601115, 0.38601533602027516, 0.2...\n",
            "1      U2    [P5, P80, P46]  [0.42718843593319855, 0.35999032290531136, 0.2...\n",
            "2      U3    [P42, P3, P39]  [0.5194141549434416, 0.35162111295680704, 0.23...\n",
            "3      U4   [P37, P16, P53]  [0.2841452453718329, 0.23519409610758035, 0.23...\n",
            "4      U5    [P7, P26, P69]  [0.4611984689453777, 0.41811938804383586, 0.37...\n"
          ]
        }
      ]
    },
    {
      "cell_type": "code",
      "source": [
        "# import matplotlib.pyplot as plt\n",
        "# import networkx as nx\n",
        "\n",
        "# # Define graph\n",
        "# G = nx.DiGraph()\n",
        "\n",
        "# # Nodes\n",
        "# nodes = [\n",
        "#     \"Users.csv\", \"Posts.csv\", \"Engagements.csv\",\n",
        "#     \"Preprocessing & Cleaning\",\n",
        "#     \"TF-IDF Vectorization (Content-based)\",\n",
        "#     \"Engagement Matrix (Collaborative)\",\n",
        "#     \"Popularity Score Calculation\",\n",
        "#     \"Weighted Hybrid Scoring\",\n",
        "#     \"Top-3 Recommendations\"\n",
        "# ]\n",
        "# G.add_nodes_from(nodes)\n",
        "\n",
        "# # Edges\n",
        "# edges = [\n",
        "#     (\"Users.csv\", \"Preprocessing & Cleaning\"),\n",
        "#     (\"Posts.csv\", \"Preprocessing & Cleaning\"),\n",
        "#     (\"Engagements.csv\", \"Preprocessing & Cleaning\"),\n",
        "#     (\"Preprocessing & Cleaning\", \"TF-IDF Vectorization (Content-based)\"),\n",
        "#     (\"Preprocessing & Cleaning\", \"Engagement Matrix (Collaborative)\"),\n",
        "#     (\"Preprocessing & Cleaning\", \"Popularity Score Calculation\"),\n",
        "#     (\"TF-IDF Vectorization (Content-based)\", \"Weighted Hybrid Scoring\"),\n",
        "#     (\"Engagement Matrix (Collaborative)\", \"Weighted Hybrid Scoring\"),\n",
        "#     (\"Popularity Score Calculation\", \"Weighted Hybrid Scoring\"),\n",
        "#     (\"Weighted Hybrid Scoring\", \"Top-3 Recommendations\")\n",
        "# ]\n",
        "# G.add_edges_from(edges)\n",
        "\n",
        "# # Draw\n",
        "# plt.figure(figsize=(14,8))\n",
        "# pos = nx.spring_layout(G, seed=42)\n",
        "\n",
        "# nx.draw_networkx_nodes(G, pos, node_size=8000, node_color=\"lightblue\", edgecolors=\"black\")\n",
        "# nx.draw_networkx_edges(G, pos, arrowstyle=\"->\", arrowsize=20, edge_color=\"gray\")\n",
        "# nx.draw_networkx_labels(G, pos, font_size=6, font_weight=\"bold\")\n",
        "\n",
        "# plt.title(\"Hybrid Recommendation System Architecture\", fontsize=14, fontweight=\"bold\")\n",
        "# plt.axis(\"off\")\n",
        "# plt.show()\n"
      ],
      "metadata": {
        "id": "0GpIyc1tLBFG"
      },
      "execution_count": 20,
      "outputs": []
    },
    {
      "cell_type": "code",
      "source": [],
      "metadata": {
        "id": "ycduoeWA2wRQ"
      },
      "execution_count": null,
      "outputs": []
    }
  ]
}